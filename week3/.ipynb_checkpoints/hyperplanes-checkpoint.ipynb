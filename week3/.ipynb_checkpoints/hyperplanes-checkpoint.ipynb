{
 "cells": [
  {
   "cell_type": "markdown",
   "metadata": {},
   "source": [
    "# Plotting Lines (2D Hyperplanes)\n",
    "This exercises is to help you figure out how to plot a line using matplotlib for visualizing linear decision boundaries.\n",
    "First lets plot som example data and an arbitrary hyperplane (line) so we can see the gist of visualizing data and a hyperplane."
   ]
  },
  {
   "cell_type": "code",
   "execution_count": 1,
   "metadata": {},
   "outputs": [
    {
     "data": {
      "image/png": "[encoded data removed]",
      "text/plain": [
       "<Figure size 432x288 with 1 Axes>"
      ]
     },
     "metadata": {},
     "output_type": "display_data"
    }
   ],
   "source": [
    "# Enable plotting directly in the notebook\n",
    "%matplotlib inline\n",
    "# import NumPy and MatplotLib pyplot\n",
    "import numpy as np\n",
    "import matplotlib.pyplot as plt\n",
    "# Generate simple data set\n",
    "from sklearn.datasets import make_blobs\n",
    "centers = [(0.3, 0.3), (0.7, 0.7)]\n",
    "n_samples = 30\n",
    "X1, Y1 = make_blobs(n_samples=n_samples, n_features=2, cluster_std=0.1, centers=centers, shuffle=False, random_state=42)\n",
    "Y1 = Y1 * 2 - 1\n",
    "\n",
    "\n",
    "# To plot a point set we use the scatter plot functionality and set the color of each point according to the labels. \n",
    "# We plot the second, and third column ignoring the 1 column. For the color of each point we use the label.\n",
    "# For more info on scatter plots we can simply write \"plt.scatter?\" in the cell below or in ipython.\n",
    "plt.axis([0, 1, 0, 1])\n",
    "plt.scatter(X1[:, 0], X1[:, 1], c=Y1, cmap=plt.cm.Paired, s=80)\n",
    "\n",
    "# Here we use the 'plt.plot' command. \n",
    "# It takes a list of x coordinates, a list of y coordinates and some style options.\n",
    "# In '-b' the '-' means to connect the points and 'b' means blue. \n",
    "# Linewidth is, wait for it... the width of the line.\n",
    "plt.plot([0,0.6], [0.4,1], '-b', linewidth=2.0)\n",
    "\n",
    "plt.show()\n",
    "\n",
    "# Can you guess how you can view the docmumentation of the 'plot' command? \n",
    "# Hint, try write: plt.plot?"
   ]
  },
  {
   "cell_type": "markdown",
   "metadata": {},
   "source": [
    "## 2. a) More about Plotting Hyperplanes\n",
    "It is possible to represent a $d$ dimensional hyperplane by a vector $w\\in\\mathbb{R}^{d+1}$ as the set of points\n",
    "\n",
    "$$S=\\{z\\in \\{1\\}\\times \\mathbb{R}^{d} \\mid w^\\intercal z=0\\}$$\n",
    "\n",
    "In this course we will often be interested in plotting a hyperplane represented by a vector $w$. In the above section we learned how to plot a line between two points. Our goal is thus to determine two points on the boundary of the plot so we can plot the hyperplane!\n",
    "\n",
    "Let's start by looking at an example. Say we are given a hyperplane represented by $w=[0, 1, 1]$ we want to plot in the range $R=[-1,1]\\times [-1, 1]$. Remember that $w^\\intercal z=0$ means that $z$ is orthogonal with $w$. The goal is then to find the points on the boundary of $R$ that are orthogonal to $w$. If you draw the vector $w$ by hand it is easy to see the orthogonal points on $R$ are $(-1, 1)$ and $(1, -1)$. \n",
    "\n",
    "The following code draws the line represented by the hyperplane $w=[0, 1, 1]$. \n",
    "\n",
    "<!-- \n",
    "\n",
    "What we learned above is how to plot a line between two points. So what we really need is to determine two points on the boundary of the plot.\n",
    "\n",
    " Say we have a hyperplane $w=[0,1,1]$. Since the first coordinate of $w$ is 0, this means that the hyperplane is a line through the origin. (Recall that the origin is given as (1,0,0) after introducing the dummy coordinate).\n",
    "This corresponds to the equation $x_1 +x_2 = 0$. How can we plot this in the input range $R = [-1,1] \\times [-1,1]$ ?\n",
    "We need to plot the set of points in $R$ that are orthogonal to $w$. For this simple case it is easy to see that the line goes through the two corners (-1,1) and (1,-1) of the input range. So the intersection of the line with the input range is exactly the line between these corners. Let's code that.\n",
    "\n",
    "-->\n",
    "\n",
    "<div style=\"display: none; border: 1px solid #333; padding: 16px; margin: 16px; \"><b>Example:</b><br>\n",
    "Let's try to represent the line through $P_1$ and $P_2$ from above as a vector $w\\in\\{1\\}\\times \\mathbb{R}^2$. We denote $w=(1,\\;w_1,\\;w_2)$ and $z=(b,\\; x,\\;y)$. Our claim is that the line can then be represented as all the points $z$ such that $w^\\intercal z=1\\cdot b+w_1x+w_2y=0$. Because $P_1$ and $P_2$ are points on the line it follos $P_1,P_2\\in S$. This gives the following to linear equations <br><br>\n",
    "\n",
    "If you are mathematically inclined you might want to prove that all hyperplanes are described by a hyperplane. This is not important in this course, however. \n",
    "</div>  "
   ]
  },
  {
   "cell_type": "code",
   "execution_count": 39,
   "metadata": {},
   "outputs": [],
   "source": [
    "# The points from previous exercise are in [0,1]x[0,1]. \n",
    "# Rescale them to R=[-1,1]x[-1,1]\n",
    "X1r = X1.copy()\n",
    "X1r[:,0] = X1r[:,0]*2 -1\n",
    "X1r[:,1] = X1r[:,1]*2 -1\n",
    "plt.axis([-1, 1, -1, 1])\n",
    "\n",
    "# Plot points\n",
    "plt.scatter(X1r[:,0],X1r[:,1],c=Y1,cmap=plt.cm.Paired,s=80)\n",
    "\n",
    "# Plot hyperplane\n",
    "plt.plot([-1,1],[1,-1],'-r',linewidth=2)\n",
    "plt.show()"
   ]
  },
  {
   "cell_type": "markdown",
   "metadata": {},
   "source": [
    "<b>Question 1: </b><br>\n",
    "Consider any hyperplane that can be represented by the vector $w=[0,w_1,w_2]$. Any such hyperplane will cross origo $O=[1, 0, 0]$. Why is that?\n",
    "\n",
    "HINT: Try to argue that $O=[1, 0, 0]\\in S=\\{z\\in \\{1\\}\\times \\mathbb{R}^2 \\mid w^\\intercal z=0\\}$. <br><br>\n",
    "<b>Question 2: </b><br>\n",
    "Consider any hyperplane that can be represented by the vector $w=[0,w_1,w_2]$ that is <b>not</b> the vertical line. <br>\n",
    "How can we find two points on the boundary $R=[-1,1]\\times[-1,1]$ that the hyperplane cross?\n",
    "\n",
    "HINT: $R$ is a square and has 4 boundaries (line segments). Consider extending each boundary/line segment as the lines $x=-1, x=1, y=1, y=-1$ and computing intersections with the hyperplane. You want to draw this so you can see what is happening.   \n"
   ]
  },
  {
   "cell_type": "markdown",
   "metadata": {},
   "source": [
    "## 2. b) Making plotting easier\n",
    "To make the task of plotting a hyperplane a little easier, we may instead take advantage of the fact the MatplotLib does automatic clipping. This means we may choose two points on the hyperplane which is outside the input range. \n",
    "\n",
    "\n",
    "Suppose that the input range is $R= [0,1] \\times [0,1]$ again. Suppose the hyperplane is not vertical. Then it must intersect any vertical lines. Consider the two vertical lines $x_1 = 0$ and $x_1 = 1$. The intersection points of $x_1$ and the hyperplane are now sufficient to draw the hyperplane.  \n",
    "\n",
    "## Task 1:\n",
    "Plot the hyperplane represented by $w=[-1.0,1.0,1.0]$ in the range $[0,1] \\times [0,1]$.\n",
    "\n",
    "Fill the code in the function **plot_hyplerplane_example** and test with \n",
    "    \n",
    "\n",
    "HINT: Find the $x_2$-coordinate for the hyperplane (line) at $x_1=0$ and at $x_1=1$. You need to solve the hyperplane equation to do this\n",
    "\n",
    "$$w^\\intercal x =w_0 \\cdot 1 + w_1 \\cdot x_1 + w_2 \\cdot x_2 = 0$$\n",
    "\n",
    "If you know all but one variable you should be able to find the other.\n",
    "\n",
    "\n"
   ]
  },
  {
   "cell_type": "code",
   "execution_count": 26,
   "metadata": {},
   "outputs": [],
   "source": [
    "def plot_hyperplane_example():\n",
    "    \"\"\"  \n",
    "    Plot the hyperplane represented by w = [−1.0, 1.0, 1.0] in the range [0,1]x[0,1]. \n",
    "    Approach: \n",
    "    Find the x2-coordinate for the hyperplane (line) at x1=0 and at x1=1.\n",
    "    You need to solve the hyperplane equations to do it: w^T * x = w0*1 + w1*x1 + w2*x2 = 0 \n",
    "    If you know all but one variable you should be able to solve it.\n",
    "    \n",
    "    Write code here to create two NumPy arrays x and y that contain the x and y coordinates of the two endpoints of the line to be drawn.\n",
    "    \"\"\"\n",
    "    x = np.array((0,0))\n",
    "    y = np.array((0,0))\n",
    "\n",
    "    ### YOUR CODE HERE 2 lines\n",
    "    ### END CODE \n",
    "    \n",
    "    plt.axis([0, 1, 0, 1])\n",
    "    plt.plot(x,y)\n",
    "    plt.title('hyperplane w={0}'.format([-1, 1, 1]))\n",
    "    plt.show()\n",
    "    \n",
    "plot_hyperplane_example()"
   ]
  },
  {
   "cell_type": "markdown",
   "metadata": {},
   "source": [
    "## Task 2:\n",
    "\n",
    "Consider plotting a generic hyperplane $w=(w_0,w_1,w_2)$ in the range $R=[x_\\min,x_\\max] \\times [y_\\min,y_\\max]$. The hyperplane equation is now\n",
    "\n",
    "$$w^\\intercal x=w_0+w_1x_1+w_2x_2=0$$\n",
    "\n",
    "Complete the function **plot_hyperplane** in code_linear_classifiers.py. Test the function with \n",
    "\n",
    "    python code_linear_classifiers.py -hyperplane\n",
    "\n",
    "HINT: How can we find two points (outside $R$) that the hyperplane goes through? Try set $x_2=y_{min}$ and then $x_2=y_{max}$. Could you do something similar for $x_1$?\n",
    "\n",
    "HINT: Can you think of any special cases (maybe check you don't divide by zero)?  \n"
   ]
  },
  {
   "cell_type": "code",
   "execution_count": 1,
   "metadata": {},
   "outputs": [],
   "source": [
    "def plot_hyperplane(w, ax, *args, **kwargs):\n",
    "    \"\"\" \n",
    "    Plot the hyperplane (line) w0 + w1*x1 + w2*x2 = 0 in the range R = [xmin,xmax] times [ymin,ymax] for a generic w = (w0,w1,w2).\n",
    "    \n",
    "    We will proceed in a similar fashion as we did in the previous task.\n",
    "    There we had xmin = ymin = 0 and xmax = ymax = 1 (i.e. the range was [0,1]x[0,1]), and we just found the intersection points of the hyperplane with the two vertical lines x1=0 and x1=1. \n",
    "    How can we find these two points for a generic w = (w0,w1,w2) and a generic range ([xmin,xmax] x [ymin,ymax])?\n",
    " \n",
    "    Remember to handle possible special cases! \n",
    "    \n",
    "    Notice how we pass along optional arguments to the plot function, which allows us to change color, etc. of the hyperplanes.\n",
    "\n",
    "    Args:\n",
    "    w: numpy array shape (d,)\n",
    "    ax: axis object (to plot on)\n",
    "    args: extra arguments to plot (ignore)\n",
    "    kwargs: extra keyword arguments to plot (ignore)\n",
    "    \"\"\"\n",
    "    \n",
    "    if w[1]==0 and w[2]==0: raise ValueError('Invalid hyperplane')\n",
    "    # Notice that w1 and w2 are not allowed to be 0 simultaneously, but it may be the case that one of them equals 0\n",
    "    \n",
    "    xmin, xmax, ymin, ymax = ax.axis()\n",
    "    \n",
    "    # Write the code here to create two NumPy arrays called x and y.\n",
    "    # The arrays x and y will contain the x1's and x2's coordinates of the two endpoints of the line, respectively.\n",
    "    \n",
    "    x = np.array((0,1))\n",
    "    y = np.array((0,1))\n",
    "    \n",
    "    ### YOUR CODE HERE 4-8 lines\n",
    "    ### END CODE\n",
    "    \n",
    "    # plot the line\n",
    "    ax.plot(x, y, *args, **kwargs)\n",
    "\n",
    "def test_hyperplane():\n",
    "    fig, ax = plt.subplots(1, 2, figsize=(20, 10))\n",
    "    # plt.axis([-1, 1, -1, 1])\n",
    "    ax[0].axis([-1, 1, -1, 1])\n",
    "    ax[1].axis([-1, 1, -1, 1])\n",
    "    plot_hyperplane((1, 2, 0), ax[0], 'r--', linewidth=4)\n",
    "    plot_hyperplane((1, 0.75, -3), ax[1], 'g--', linewidth=4)\n",
    "    plt.show()\n",
    "\n",
    "test_hyperplane()"
   ]
  },
  {
   "cell_type": "code",
   "execution_count": null,
   "metadata": {},
   "outputs": [],
   "source": []
  }
 ],
 "metadata": {
  "anaconda-cloud": {},
  "kernelspec": {
   "display_name": "Python 3",
   "language": "python",
   "name": "python3"
  },
  "language_info": {
   "codemirror_mode": {
    "name": "ipython",
    "version": 3
   },
   "file_extension": ".py",
   "mimetype": "text/x-python",
   "name": "python",
   "nbconvert_exporter": "python",
   "pygments_lexer": "ipython3",
   "version": "3.6.5"
  }
 },
 "nbformat": 4,
 "nbformat_minor": 1
}
